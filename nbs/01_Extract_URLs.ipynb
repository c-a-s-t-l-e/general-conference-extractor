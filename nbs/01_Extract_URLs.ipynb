{
 "cells": [
  {
   "cell_type": "markdown",
   "id": "02c151a5-1eaf-4808-a49a-c1953aad3742",
   "metadata": {},
   "source": [
    "# Extract URLs\n",
    "\n",
    "> Getting relevant urls to then scrape poses a problem.\n",
    "> Which is why these functions exist."
   ]
  },
  {
   "cell_type": "code",
   "execution_count": null,
   "id": "30f10165-8c9c-47a5-a479-74c892610da4",
   "metadata": {},
   "outputs": [],
   "source": [
    "#| default_exp extractURLs"
   ]
  },
  {
   "cell_type": "code",
   "execution_count": null,
   "id": "1a4ce1eb-29f7-49bd-a605-d3d44955d684",
   "metadata": {},
   "outputs": [],
   "source": [
    "#| hide\n",
    "from nbdev.showdoc import *"
   ]
  },
  {
   "cell_type": "code",
   "execution_count": null,
   "id": "c7761cf4-43ae-49fa-a2be-615dbd2e5645",
   "metadata": {},
   "outputs": [],
   "source": [
    "#| export\n",
    "from bs4 import BeautifulSoup\n",
    "import requests\n",
    "import re\n",
    "\n",
    "def extract_talk_urls(html):\n",
    "    '''\n",
    "    Enter a url for general conference year such as:\n",
    "    https://www.churchofjesuschrist.org/study/general-conference/1994/04?lang=eng\n",
    "    '''\n",
    "    response = requests.get(str(url))\n",
    "    soup = BeautifulSoup(response.content, 'html.parser')\n",
    "\n",
    "    # Define a regular expression pattern to match the desired URLs\n",
    "\n",
    "    # for more recent talks\n",
    "    url_pattern = re.compile(r'/study/general-conference/\\d{4}/(04|10)/\\d{2}[a-zA-Z]+.*\\?lang=eng')\n",
    "\n",
    "    # Find all <a> tags with an 'href' attribute that matches the pattern\n",
    "    links = soup.find_all('a', href=url_pattern)\n",
    "    \n",
    "    # for older talks\n",
    "    if len(links) == 0:\n",
    "        url_pattern = re.compile(r'/study/general-conference/\\d{4}/(04|10)/(?!.*session)[a-zA-Z]+.*\\?lang=eng')\n",
    "        links = soup.find_all('a', href=url_pattern)\n",
    "    \n",
    "    # Extract the URLs\n",
    "    talk_urls = ['https://www.churchofjesuschrist.org/' + link['href'] for link in links]\n",
    "    \n",
    "    return talk_urls"
   ]
  },
  {
   "cell_type": "code",
   "execution_count": null,
   "id": "dd69d6f0-7a27-460e-a08b-0975ddd5e8cc",
   "metadata": {},
   "outputs": [
    {
     "ename": "NameError",
     "evalue": "name 'BeautifulSoup' is not defined",
     "output_type": "error",
     "traceback": [
      "\u001b[0;31m---------------------------------------------------------------------------\u001b[0m",
      "\u001b[0;31mNameError\u001b[0m                                 Traceback (most recent call last)",
      "Cell \u001b[0;32mIn[10], line 4\u001b[0m\n\u001b[1;32m      1\u001b[0m \u001b[38;5;66;03m# As an example\u001b[39;00m\n\u001b[1;32m      2\u001b[0m url \u001b[38;5;241m=\u001b[39m \u001b[38;5;124m\"\u001b[39m\u001b[38;5;124mhttps://www.churchofjesuschrist.org/study/general-conference/1994/04?lang=eng\u001b[39m\u001b[38;5;124m\"\u001b[39m\n\u001b[0;32m----> 4\u001b[0m all_talk_urls \u001b[38;5;241m=\u001b[39m \u001b[43mextract_talk_urls\u001b[49m\u001b[43m(\u001b[49m\u001b[43murl\u001b[49m\u001b[43m)\u001b[49m\n\u001b[1;32m      5\u001b[0m \u001b[38;5;28mprint\u001b[39m(all_talk_urls)\n",
      "Cell \u001b[0;32mIn[9], line 10\u001b[0m, in \u001b[0;36mextract_talk_urls\u001b[0;34m(html)\u001b[0m\n\u001b[1;32m      5\u001b[0m \u001b[38;5;250m\u001b[39m\u001b[38;5;124;03m'''\u001b[39;00m\n\u001b[1;32m      6\u001b[0m \u001b[38;5;124;03mEnter a url for general conference year such as:\u001b[39;00m\n\u001b[1;32m      7\u001b[0m \u001b[38;5;124;03mhttps://www.churchofjesuschrist.org/study/general-conference/1994/04?lang=eng\u001b[39;00m\n\u001b[1;32m      8\u001b[0m \u001b[38;5;124;03m'''\u001b[39;00m\n\u001b[1;32m      9\u001b[0m response \u001b[38;5;241m=\u001b[39m requests\u001b[38;5;241m.\u001b[39mget(\u001b[38;5;28mstr\u001b[39m(url))\n\u001b[0;32m---> 10\u001b[0m soup \u001b[38;5;241m=\u001b[39m \u001b[43mBeautifulSoup\u001b[49m(response\u001b[38;5;241m.\u001b[39mcontent, \u001b[38;5;124m'\u001b[39m\u001b[38;5;124mhtml.parser\u001b[39m\u001b[38;5;124m'\u001b[39m)\n\u001b[1;32m     12\u001b[0m \u001b[38;5;66;03m# Define a regular expression pattern to match the desired URLs\u001b[39;00m\n\u001b[1;32m     13\u001b[0m \n\u001b[1;32m     14\u001b[0m \u001b[38;5;66;03m# for more recent talks\u001b[39;00m\n\u001b[1;32m     15\u001b[0m url_pattern \u001b[38;5;241m=\u001b[39m re\u001b[38;5;241m.\u001b[39mcompile(\u001b[38;5;124mr\u001b[39m\u001b[38;5;124m'\u001b[39m\u001b[38;5;124m/study/general-conference/\u001b[39m\u001b[38;5;124m\\\u001b[39m\u001b[38;5;124md\u001b[39m\u001b[38;5;132;01m{4}\u001b[39;00m\u001b[38;5;124m/(04|10)/\u001b[39m\u001b[38;5;124m\\\u001b[39m\u001b[38;5;124md\u001b[39m\u001b[38;5;132;01m{2}\u001b[39;00m\u001b[38;5;124m[a-zA-Z]+.*\u001b[39m\u001b[38;5;124m\\\u001b[39m\u001b[38;5;124m?lang=eng\u001b[39m\u001b[38;5;124m'\u001b[39m)\n",
      "\u001b[0;31mNameError\u001b[0m: name 'BeautifulSoup' is not defined"
     ]
    }
   ],
   "source": [
    "# As an example\n",
    "url = \"https://www.churchofjesuschrist.org/study/general-conference/1994/04?lang=eng\"\n",
    "\n",
    "all_talk_urls = extract_talk_urls(url)\n",
    "print(all_talk_urls)"
   ]
  },
  {
   "cell_type": "code",
   "execution_count": null,
   "id": "2d30c9cc-e5c0-4a81-a52b-c0e969ce2916",
   "metadata": {},
   "outputs": [],
   "source": [
    "#| hide\n",
    "import nbdev; nbdev.nbdev_export()"
   ]
  }
 ],
 "metadata": {
  "kernelspec": {
   "display_name": "general-conference-extractor",
   "language": "python",
   "name": "general-conference-extractor"
  }
 },
 "nbformat": 4,
 "nbformat_minor": 5
}
