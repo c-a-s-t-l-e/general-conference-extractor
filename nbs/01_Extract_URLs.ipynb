{
 "cells": [
  {
   "cell_type": "markdown",
   "id": "02c151a5-1eaf-4808-a49a-c1953aad3742",
   "metadata": {},
   "source": [
    "# Extract URLs\n",
    "\n",
    "> Getting relevant urls to then scrape poses a problem.\n",
    "> Which is why these functions exist."
   ]
  },
  {
   "cell_type": "code",
   "execution_count": null,
   "id": "30f10165-8c9c-47a5-a479-74c892610da4",
   "metadata": {},
   "outputs": [],
   "source": [
    "#| default_exp extract_URLs"
   ]
  },
  {
   "cell_type": "code",
   "execution_count": null,
   "id": "1a4ce1eb-29f7-49bd-a605-d3d44955d684",
   "metadata": {},
   "outputs": [],
   "source": [
    "#| hide\n",
    "from nbdev.showdoc import *"
   ]
  },
  {
   "cell_type": "code",
   "execution_count": null,
   "id": "c7761cf4-43ae-49fa-a2be-615dbd2e5645",
   "metadata": {},
   "outputs": [],
   "source": [
    "#| export\n",
    "from bs4 import BeautifulSoup\n",
    "import requests\n",
    "import re\n",
    "\n",
    "def extract_talk_urls(\n",
    "    url:str #The URL of a General Conference year page, e.g., 'https://www.churchofjesuschrist.org/study/general-conference/1994/04?lang=eng'\n",
    "    ) -> talk_urls:list[str] #A list of URLs for talks from the given General Conference year page.:\n",
    "    \n",
    "    response = requests.get(str(url))\n",
    "    soup = BeautifulSoup(response.content, 'html.parser')\n",
    "\n",
    "    # Define a regular expression pattern to match the desired URLs\n",
    "\n",
    "    # for more recent talks\n",
    "    url_pattern = re.compile(r'/study/general-conference/\\d{4}/(04|10)/\\d{2}[a-zA-Z]+.*\\?lang=eng')\n",
    "\n",
    "    # Find all <a> tags with an 'href' attribute that matches the pattern\n",
    "    links = soup.find_all('a', href=url_pattern)\n",
    "    \n",
    "    # for older talks\n",
    "    if len(links) == 0:\n",
    "        url_pattern = re.compile(r'/study/general-conference/\\d{4}/(04|10)/(?!.*session)[a-zA-Z]+.*\\?lang=eng')\n",
    "        links = soup.find_all('a', href=url_pattern)\n",
    "    \n",
    "    # Extract the URLs\n",
    "    talk_urls = ['https://www.churchofjesuschrist.org/' + link['href'] for link in links]\n",
    "    \n",
    "    return talk_urls"
   ]
  },
  {
   "cell_type": "code",
   "execution_count": null,
   "id": "dd69d6f0-7a27-460e-a08b-0975ddd5e8cc",
   "metadata": {},
   "outputs": [
    {
     "name": "stdout",
     "output_type": "stream",
     "text": [
      "['https://www.churchofjesuschrist.org//study/general-conference/1994/04/five-loaves-and-two-fishes?lang=eng', 'https://www.churchofjesuschrist.org//study/general-conference/1994/04/to-be-healed?lang=eng', 'https://www.churchofjesuschrist.org//study/general-conference/1994/04/if-a-man-die-shall-he-live-again?lang=eng', 'https://www.churchofjesuschrist.org//study/general-conference/1994/04/a-childs-love-matured?lang=eng', 'https://www.churchofjesuschrist.org//study/general-conference/1994/04/walk-with-me?lang=eng', 'https://www.churchofjesuschrist.org//study/general-conference/1994/04/a-divine-prescription-for-spiritual-healing?lang=eng', 'https://www.churchofjesuschrist.org//study/general-conference/1994/04/the-father-and-the-family?lang=eng', 'https://www.churchofjesuschrist.org//study/general-conference/1994/04/the-sustaining-of-church-officers?lang=eng', 'https://www.churchofjesuschrist.org//study/general-conference/1994/04/the-church-audit-committee-report?lang=eng', 'https://www.churchofjesuschrist.org//study/general-conference/1994/04/statistical-report-1993?lang=eng', 'https://www.churchofjesuschrist.org//study/general-conference/1994/04/counseling-with-our-councils?lang=eng', 'https://www.churchofjesuschrist.org//study/general-conference/1994/04/gratitude?lang=eng', 'https://www.churchofjesuschrist.org//study/general-conference/1994/04/we-all-have-a-father-in-whom-we-can-trust?lang=eng', 'https://www.churchofjesuschrist.org//study/general-conference/1994/04/the-special-status-of-children?lang=eng', 'https://www.churchofjesuschrist.org//study/general-conference/1994/04/tithing?lang=eng', 'https://www.churchofjesuschrist.org//study/general-conference/1994/04/therefore-i-was-taught?lang=eng', 'https://www.churchofjesuschrist.org//study/general-conference/1994/04/live-in-obedience?lang=eng', 'https://www.churchofjesuschrist.org//study/general-conference/1994/04/remember-your-covenants?lang=eng', 'https://www.churchofjesuschrist.org//study/general-conference/1994/04/feed-my-sheep?lang=eng', 'https://www.churchofjesuschrist.org//study/general-conference/1994/04/the-power-of-a-good-life?lang=eng', 'https://www.churchofjesuschrist.org//study/general-conference/1994/04/the-priesthood-a-sacred-trust?lang=eng', 'https://www.churchofjesuschrist.org//study/general-conference/1994/04/god-is-at-the-helm?lang=eng', 'https://www.churchofjesuschrist.org//study/general-conference/1994/04/the-path-to-peace?lang=eng', 'https://www.churchofjesuschrist.org//study/general-conference/1994/04/what-manner-of-men-ought-ye-to-be?lang=eng', 'https://www.churchofjesuschrist.org//study/general-conference/1994/04/stretching-the-cords-of-the-tent?lang=eng', 'https://www.churchofjesuschrist.org//study/general-conference/1994/04/courage-to-hearken?lang=eng', 'https://www.churchofjesuschrist.org//study/general-conference/1994/04/teach-us-tolerance-and-love?lang=eng', 'https://www.churchofjesuschrist.org//study/general-conference/1994/04/the-greatest-miracle-in-human-history?lang=eng', 'https://www.churchofjesuschrist.org//study/general-conference/1994/04/jesus-of-nazareth?lang=eng', 'https://www.churchofjesuschrist.org//study/general-conference/1994/04/the-unique-message-of-jesus-christ?lang=eng', 'https://www.churchofjesuschrist.org//study/general-conference/1994/04/decisions?lang=eng', 'https://www.churchofjesuschrist.org//study/general-conference/1994/04/trying-to-be-like-jesus?lang=eng', 'https://www.churchofjesuschrist.org//study/general-conference/1994/04/teaching-children-to-walk-uprightly-before-the-lord?lang=eng', 'https://www.churchofjesuschrist.org//study/general-conference/1994/04/what-shall-we-do?lang=eng', 'https://www.churchofjesuschrist.org//study/general-conference/1994/04/take-especial-care-of-your-family?lang=eng', 'https://www.churchofjesuschrist.org//study/general-conference/1994/04/what-he-would-have-us-do?lang=eng', 'https://www.churchofjesuschrist.org//study/general-conference/1994/04/faith-is-the-answer?lang=eng', 'https://www.churchofjesuschrist.org//study/general-conference/1994/04/increase-in-faith?lang=eng', 'https://www.churchofjesuschrist.org//study/general-conference/1994/04/growing-up-spiritually?lang=eng', 'https://www.churchofjesuschrist.org//study/general-conference/1994/04/faith-in-the-lord-jesus-christ?lang=eng', 'https://www.churchofjesuschrist.org//study/general-conference/1994/04/five-loaves-and-two-fishes?lang=eng', 'https://www.churchofjesuschrist.org//study/general-conference/1994/04/to-be-healed?lang=eng', 'https://www.churchofjesuschrist.org//study/general-conference/1994/04/if-a-man-die-shall-he-live-again?lang=eng', 'https://www.churchofjesuschrist.org//study/general-conference/1994/04/a-childs-love-matured?lang=eng', 'https://www.churchofjesuschrist.org//study/general-conference/1994/04/walk-with-me?lang=eng', 'https://www.churchofjesuschrist.org//study/general-conference/1994/04/a-divine-prescription-for-spiritual-healing?lang=eng', 'https://www.churchofjesuschrist.org//study/general-conference/1994/04/the-father-and-the-family?lang=eng', 'https://www.churchofjesuschrist.org//study/general-conference/1994/04/the-sustaining-of-church-officers?lang=eng', 'https://www.churchofjesuschrist.org//study/general-conference/1994/04/the-church-audit-committee-report?lang=eng', 'https://www.churchofjesuschrist.org//study/general-conference/1994/04/statistical-report-1993?lang=eng', 'https://www.churchofjesuschrist.org//study/general-conference/1994/04/counseling-with-our-councils?lang=eng', 'https://www.churchofjesuschrist.org//study/general-conference/1994/04/gratitude?lang=eng', 'https://www.churchofjesuschrist.org//study/general-conference/1994/04/we-all-have-a-father-in-whom-we-can-trust?lang=eng', 'https://www.churchofjesuschrist.org//study/general-conference/1994/04/the-special-status-of-children?lang=eng', 'https://www.churchofjesuschrist.org//study/general-conference/1994/04/tithing?lang=eng', 'https://www.churchofjesuschrist.org//study/general-conference/1994/04/therefore-i-was-taught?lang=eng', 'https://www.churchofjesuschrist.org//study/general-conference/1994/04/live-in-obedience?lang=eng', 'https://www.churchofjesuschrist.org//study/general-conference/1994/04/remember-your-covenants?lang=eng', 'https://www.churchofjesuschrist.org//study/general-conference/1994/04/feed-my-sheep?lang=eng', 'https://www.churchofjesuschrist.org//study/general-conference/1994/04/the-power-of-a-good-life?lang=eng', 'https://www.churchofjesuschrist.org//study/general-conference/1994/04/the-priesthood-a-sacred-trust?lang=eng', 'https://www.churchofjesuschrist.org//study/general-conference/1994/04/god-is-at-the-helm?lang=eng', 'https://www.churchofjesuschrist.org//study/general-conference/1994/04/the-path-to-peace?lang=eng', 'https://www.churchofjesuschrist.org//study/general-conference/1994/04/what-manner-of-men-ought-ye-to-be?lang=eng', 'https://www.churchofjesuschrist.org//study/general-conference/1994/04/stretching-the-cords-of-the-tent?lang=eng', 'https://www.churchofjesuschrist.org//study/general-conference/1994/04/courage-to-hearken?lang=eng', 'https://www.churchofjesuschrist.org//study/general-conference/1994/04/teach-us-tolerance-and-love?lang=eng', 'https://www.churchofjesuschrist.org//study/general-conference/1994/04/the-greatest-miracle-in-human-history?lang=eng', 'https://www.churchofjesuschrist.org//study/general-conference/1994/04/jesus-of-nazareth?lang=eng', 'https://www.churchofjesuschrist.org//study/general-conference/1994/04/the-unique-message-of-jesus-christ?lang=eng', 'https://www.churchofjesuschrist.org//study/general-conference/1994/04/decisions?lang=eng', 'https://www.churchofjesuschrist.org//study/general-conference/1994/04/trying-to-be-like-jesus?lang=eng', 'https://www.churchofjesuschrist.org//study/general-conference/1994/04/teaching-children-to-walk-uprightly-before-the-lord?lang=eng', 'https://www.churchofjesuschrist.org//study/general-conference/1994/04/what-shall-we-do?lang=eng', 'https://www.churchofjesuschrist.org//study/general-conference/1994/04/take-especial-care-of-your-family?lang=eng', 'https://www.churchofjesuschrist.org//study/general-conference/1994/04/what-he-would-have-us-do?lang=eng', 'https://www.churchofjesuschrist.org//study/general-conference/1994/04/faith-is-the-answer?lang=eng', 'https://www.churchofjesuschrist.org//study/general-conference/1994/04/increase-in-faith?lang=eng', 'https://www.churchofjesuschrist.org//study/general-conference/1994/04/growing-up-spiritually?lang=eng', 'https://www.churchofjesuschrist.org//study/general-conference/1994/04/faith-in-the-lord-jesus-christ?lang=eng']\n"
     ]
    }
   ],
   "source": [
    "# As an example\n",
    "url = \"https://www.churchofjesuschrist.org/study/general-conference/1994/04?lang=eng\"\n",
    "\n",
    "all_talk_urls = extract_talk_urls(url)\n",
    "print(all_talk_urls)"
   ]
  },
  {
   "cell_type": "code",
   "execution_count": null,
   "id": "6cc1177a-325c-4b89-be1c-090fc5554163",
   "metadata": {},
   "outputs": [],
   "source": [
    "#| export\n",
    "def generate_conference_url(year, month):\n",
    "    \"\"\"\n",
    "    Generates a General Conference year page URL based on a specific year and month.\n",
    "\n",
    "    Args:\n",
    "        year (int): The chosen year.\n",
    "        month (str): The chosen month represented as a two-digit string (e.g., '04' for April, '10' for October).\n",
    "\n",
    "    Returns:\n",
    "        str: A General Conference year page URL corresponding to the specified year and month.\n",
    "\n",
    "    Raises:\n",
    "        ValueError: If the provided month is not either '04' or '10'.\n",
    "    \"\"\"\n",
    "    if month in ['04', '10']:\n",
    "        return f\"https://www.churchofjesuschrist.org/study/general-conference/{year}/{month}?lang=eng\"\n",
    "    else:\n",
    "        raise ValueError(\"Month must be either '04' (April) or '10' (October).\")"
   ]
  },
  {
   "cell_type": "code",
   "execution_count": null,
   "id": "7bceadba-c999-440a-b23e-1e7d9e2a8834",
   "metadata": {},
   "outputs": [],
   "source": [
    "#| export\n",
    "def generate_conference_urls(start_year, end_year=None, most_recent_april=False):\n",
    "    \"\"\"\n",
    "    Generates General Conference year page URLs for talks from years within a specified range.\n",
    "\n",
    "    Args:\n",
    "        start_year (int): The start year for the range of years.\n",
    "        end_year (int, optional): The end year for the range of General years. Default is None (just produces the URLs for that year provided by start_year).\n",
    "        most_recent_april (bool, optional): Decides whether to generate the URL for the October conference of that year depending on if the most recent April conference took place at the provided final year in the range. Default is False.\n",
    "\n",
    "    Returns:\n",
    "        list[str]: A list of General Conference year page URLs from the years within the specified range.\n",
    "    \"\"\"\n",
    "    conference_urls = []\n",
    "    months = ['04', '10']\n",
    "    if end_year is None:\n",
    "        urls = [generate_conference_url(start_year, month) for month in months]\n",
    "    else:\n",
    "        urls = []\n",
    "        for year in range(start_year, end_year+1, 1):\n",
    "            year_urls = [generate_conference_url(year, month) for month in months]\n",
    "            urls.append(year_urls)\n",
    "        urls = [item for sublist in urls for item in sublist]\n",
    "        \n",
    "        if most_recent_april == True:\n",
    "            urls = urls[:-1]\n",
    "            \n",
    "    return urls"
   ]
  },
  {
   "cell_type": "code",
   "execution_count": null,
   "id": "bacd9f25-7f39-4d8a-a588-de11c577c97e",
   "metadata": {},
   "outputs": [
    {
     "name": "stdout",
     "output_type": "stream",
     "text": [
      "Show the URLs for just the year 2016:\n",
      "\n",
      "['https://www.churchofjesuschrist.org/study/general-conference/2016/04?lang=eng', 'https://www.churchofjesuschrist.org/study/general-conference/2016/10?lang=eng']\n",
      "\n",
      "\n",
      "\n",
      "Show the URLs for the years 2016 and 2017:\n",
      "\n",
      "['https://www.churchofjesuschrist.org/study/general-conference/2016/04?lang=eng', 'https://www.churchofjesuschrist.org/study/general-conference/2016/10?lang=eng', 'https://www.churchofjesuschrist.org/study/general-conference/2017/04?lang=eng']\n"
     ]
    }
   ],
   "source": [
    "# As a first example\n",
    "print(\"Show the URLs for just the year 2016:\\n\")\n",
    "print(generate_conference_urls(2016))\n",
    "\n",
    "print(\"\\n\\n\")\n",
    "\n",
    "# As a second example\n",
    "print(\"Show the URLs for the years 2016 and 2017:\\n\")\n",
    "print(generate_conference_urls(start_year=2016, end_year=2017, most_recent_april=True))"
   ]
  },
  {
   "cell_type": "code",
   "execution_count": null,
   "id": "2d30c9cc-e5c0-4a81-a52b-c0e969ce2916",
   "metadata": {},
   "outputs": [],
   "source": [
    "#| hide\n",
    "import nbdev; nbdev.nbdev_export()"
   ]
  }
 ],
 "metadata": {
  "kernelspec": {
   "display_name": "general-conference-extractor",
   "language": "python",
   "name": "general-conference-extractor"
  }
 },
 "nbformat": 4,
 "nbformat_minor": 5
}
