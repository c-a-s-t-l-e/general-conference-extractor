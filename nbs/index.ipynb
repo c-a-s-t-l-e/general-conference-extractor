{
 "cells": [
  {
   "cell_type": "code",
   "execution_count": null,
   "metadata": {},
   "outputs": [],
   "source": [
    "#| hide\n",
    "from general_conference_extractor.core import *"
   ]
  },
  {
   "cell_type": "markdown",
   "metadata": {},
   "source": [
    "# general-conference-extractor\n",
    "\n",
    "> This library allows you to extract any talk and its respective metadata given for a General Conference of the Church of Jesus Christ of Latter-Day Saints from April 1971 to the most recent month and year."
   ]
  },
  {
   "cell_type": "markdown",
   "metadata": {},
   "source": [
    "## Install"
   ]
  },
  {
   "cell_type": "markdown",
   "metadata": {},
   "source": [
    "```sh\n",
    "pip install general_conference_extractor\n",
    "```"
   ]
  },
  {
   "cell_type": "markdown",
   "metadata": {},
   "source": [
    "## How to Use"
   ]
  },
  {
   "cell_type": "markdown",
   "metadata": {},
   "source": [
    "#### Example 1 - Just One Talk URL"
   ]
  },
  {
   "cell_type": "markdown",
   "metadata": {},
   "source": [
    "Here's what you could do with just one talk URL:"
   ]
  },
  {
   "cell_type": "code",
   "execution_count": null,
   "metadata": {},
   "outputs": [
    {
     "name": "stdout",
     "output_type": "stream",
     "text": [
      "**** Metadata ****  \n",
      "\n",
      "{'title': 'Pillars and Rays', 'author': 'Alexander Dushku', 'calling': 'Of the Seventy', 'year': 2024, 'month': 4, 'url': 'https://www.churchofjesuschrist.org/study/general-conference/2024/04/15dushku?lang=eng'}\n",
      "\n",
      "\n",
      "**** Extracted Text **** \n",
      "\n",
      "Pillars and Rays\n",
      "\n",
      "By Elder Alexander Dushku\n",
      "\n",
      "Of the Seventy\n",
      "\n",
      "My message is for those who worry about their testimony because they haven’t had overwhelming spiritual experiences. I pray that I can provide some peace and assurance.\n",
      "\n",
      "The Restoration of the gospel of Jesus Christ began with an explosion\n"
     ]
    }
   ],
   "source": [
    "from general_conference_extractor.GeneralConferenceTalk import GeneralConferenceTalk\n",
    "\n",
    "url = \"https://www.churchofjesuschrist.org/study/general-conference/2024/04/15dushku?lang=eng\"\n",
    "\n",
    "talk = GeneralConferenceTalk(url, title=True, author=True, calling=True)\n",
    "\n",
    "# Print the extracted text\n",
    "print(\"**** Metadata ****  \\n\")\n",
    "print(talk.metadata)\n",
    "print(\"\\n\")\n",
    "\n",
    "print(\"**** Extracted Text **** \\n\")\n",
    "print(talk.text[0:300])"
   ]
  },
  {
   "cell_type": "markdown",
   "metadata": {},
   "source": [
    "#### Example 2 - Get All the Talks for One General Conference"
   ]
  },
  {
   "cell_type": "markdown",
   "metadata": {},
   "source": [
    "Or, here's an example of extracting every talk from a specific General Conference (i.e. April 2017 in this instance):"
   ]
  },
  {
   "cell_type": "code",
   "execution_count": null,
   "metadata": {},
   "outputs": [],
   "source": [
    "from general_conference_extractor.extract_URLs import generate_conference_url, extract_talk_urls\n",
    "from general_conference_extractor.data_output import extract_conference_talks\n",
    "\n",
    "# Step 1 - Get the URLs for the talks\n",
    "\n",
    "# get the page URL that shows all the talks for that specific General Conference\n",
    "gen_conf_page_url = generate_conference_url(2017, '04')\n",
    "\n",
    "# get all the URLs for the talks that were given for that conference\n",
    "talk_urls = extract_talk_urls(gen_conf_page_url)\n",
    "\n",
    "# Step 2 - Save the talks as txt docs in folders and then their respective metadata in a seperate csv file\n",
    "output_folder = './conference_talks'\n",
    "metadata_csv_path = './metadata.csv'\n",
    "\n",
    "# to produce the respective folders and documents\n",
    "# extract_conference_talks(talk_urls, output_folder, metadata_csv_path)"
   ]
  },
  {
   "cell_type": "markdown",
   "metadata": {},
   "source": [
    "#### Example 3 - Get All the Talks for a Specific Year"
   ]
  },
  {
   "cell_type": "code",
   "execution_count": null,
   "metadata": {},
   "outputs": [],
   "source": [
    "from general_conference_extractor.extract_URLs import extract_multiconference_talk_urls\n",
    "from general_conference_extractor.data_output import extract_conference_talks\n",
    "\n",
    "# As an example\n",
    "multiconference_talk_urls = extract_multiconference_talk_urls(2017,2017)\n",
    "\n",
    "# Step 2 - Save the talks as txt docs and their metadata in a csv file\n",
    "output_folder = './conference_talks'\n",
    "metadata_csv_path = './metadata.csv'\n",
    "\n",
    "# to produce the respective folders and documents\n",
    "# extract_conference_talks(multiconference_talk_urls, output_folder, metadata_csv_path)"
   ]
  },
  {
   "cell_type": "markdown",
   "metadata": {},
   "source": [
    "#### Example 4 - Get All the Talks for a Specific Decade"
   ]
  },
  {
   "cell_type": "code",
   "execution_count": null,
   "metadata": {},
   "outputs": [],
   "source": [
    "from general_conference_extractor.extract_URLs import extract_multiconference_talk_urls\n",
    "from general_conference_extractor.data_output import extract_conference_talks\n",
    "\n",
    "# As an example\n",
    "multiconference_talk_urls = extract_multiconference_talk_urls(2010,2019)\n",
    "\n",
    "# Step 2 - Save the talks as txt docs and their metadata in a csv file\n",
    "output_folder = './conference_talks'\n",
    "metadata_csv_path = './metadata.csv'\n",
    "\n",
    "# to produce the respective folders and documents\n",
    "# extract_conference_talks(multiconference_talk_urls, output_folder, metadata_csv_path)"
   ]
  }
 ],
 "metadata": {
  "kernelspec": {
   "display_name": "general-conference-extractor",
   "language": "python",
   "name": "general-conference-extractor"
  }
 },
 "nbformat": 4,
 "nbformat_minor": 4
}
