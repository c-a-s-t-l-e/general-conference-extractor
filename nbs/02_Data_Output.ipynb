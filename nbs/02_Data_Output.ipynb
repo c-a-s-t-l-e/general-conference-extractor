{
 "cells": [
  {
   "cell_type": "markdown",
   "id": "d11df98b-010b-408d-8da8-0ed92bcd8202",
   "metadata": {},
   "source": [
    "# Data Output\n",
    "\n",
    "> Output the text documents and relevant metadata for use in other applications and projects."
   ]
  },
  {
   "cell_type": "code",
   "execution_count": null,
   "id": "e9af4952-7614-4a89-9fe2-5da2e66470a6",
   "metadata": {},
   "outputs": [],
   "source": [
    "#| default_exp data_output"
   ]
  },
  {
   "cell_type": "code",
   "execution_count": null,
   "id": "32d08ce2-555c-4493-817f-05524dc2bf76",
   "metadata": {},
   "outputs": [],
   "source": [
    "#| hide\n",
    "from nbdev.showdoc import *"
   ]
  },
  {
   "cell_type": "code",
   "execution_count": null,
   "id": "4f2b851f-1ad3-4739-b4d6-af29659ae702",
   "metadata": {},
   "outputs": [],
   "source": [
    "#| export\n",
    "import os\n",
    "from general_conference_extractor.GeneralConferenceTalk import GeneralConferenceTalk\n",
    "\n",
    "def save_talk_text(output_folder:str, # The root folder path where the year and month folders will be created.\n",
    "                   talk:GeneralConferenceTalk # The talk object containing the talk's text and metadata.\n",
    "                  )-> dict: # A dictionary of the updated talk metadata that now has filename\n",
    "    \"\"\"Saves the text of a talk to a file within a folder representing its year and month.\"\"\"\n",
    "    year_folder = os.path.join(output_folder, 'y_' + str(talk.metadata['year']))\n",
    "    if not os.path.exists(year_folder):\n",
    "        os.makedirs(year_folder)\n",
    "\n",
    "    month_folder = os.path.join(year_folder, 'm_' + str(talk.metadata['month']))\n",
    "    if not os.path.exists(month_folder):\n",
    "        os.makedirs(month_folder)\n",
    "\n",
    "    filename = f\"{talk.metadata.get('title', 'unknown_title').replace(' ', '_')}.txt\"\n",
    "    file_path = os.path.join(month_folder, filename)\n",
    "    with open(file_path, 'w', encoding='utf-8') as file:\n",
    "        file.write(talk.text)\n",
    "\n",
    "    # Update metadata with the filename for reference\n",
    "    talk.metadata['filename'] = filename\n",
    "    return talk.metadata"
   ]
  },
  {
   "cell_type": "code",
   "execution_count": null,
   "id": "e6863f98-d609-43cc-bc18-05866745d6b2",
   "metadata": {},
   "outputs": [],
   "source": [
    "#| export\n",
    "import csv\n",
    "\n",
    "def save_metadata_to_csv(metadata_records:list[dict], # A list of dictionaries containing metadata for each talk.\n",
    "                         metadata_csv_path:str): # The path to the CSV file where the metadata will be saved.\n",
    "    \"\"\"Saves metadata records to a CSV file.\"\"\"\n",
    "    with open(metadata_csv_path, 'w', newline='', encoding='utf-8') as csvfile:\n",
    "        fieldnames = ['title', 'author', 'calling', 'month', 'year', 'url', 'filename']\n",
    "        writer = csv.DictWriter(csvfile, fieldnames=fieldnames)\n",
    "        writer.writeheader()\n",
    "        for record in metadata_records:\n",
    "            writer.writerow(record)"
   ]
  },
  {
   "cell_type": "code",
   "execution_count": null,
   "id": "f892cf6d-68b1-4e00-b3e9-ccecf1347f1f",
   "metadata": {},
   "outputs": [],
   "source": [
    "#| export\n",
    "from general_conference_extractor.GeneralConferenceTalk import GeneralConferenceTalk\n",
    "\n",
    "def extract_conference_talks(urls:list[str], # A list of URLs for conference talks.\n",
    "                             output_folder, # The folder path where the talk's text files will be saved.\n",
    "                             metadata_csv_path): # The path to the CSV file where the talk's metadata will be saved.\n",
    "    \"\"\"Extracts conference talks from URLs, saves their text to files, and saves metadata to a CSV file.\"\"\"\n",
    "    metadata_records = []\n",
    "    for url in urls:\n",
    "        talk = GeneralConferenceTalk(url, title=True, author=True, calling=True)\n",
    "        talk_metadata = save_talk_text(output_folder, talk)\n",
    "        metadata_records.append(talk_metadata)\n",
    "    \n",
    "    save_metadata_to_csv(metadata_records, metadata_csv_path)"
   ]
  },
  {
   "cell_type": "code",
   "execution_count": null,
   "id": "86f25026-0ab3-4afa-9fc4-919c14d3dbe0",
   "metadata": {},
   "outputs": [],
   "source": [
    "# As an example\n",
    "urls = ['https://www.churchofjesuschrist.org//study/general-conference/2016/04/he-asks-us-to-be-his-hands?lang=eng', \"https://www.churchofjesuschrist.org/study/general-conference/2024/04/13holland?lang=eng\"]\n",
    "output_folder = './conference_talks'\n",
    "metadata_csv_path = './metadata.csv'\n",
    "\n",
    "# to produce the respective folders and documents\n",
    "# extract_conference_talks(urls, output_folder, metadata_csv_path)"
   ]
  }
 ],
 "metadata": {
  "kernelspec": {
   "display_name": "general-conference-extractor",
   "language": "python",
   "name": "general-conference-extractor"
  }
 },
 "nbformat": 4,
 "nbformat_minor": 5
}
